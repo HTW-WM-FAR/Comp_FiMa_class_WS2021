{
 "cells": [
  {
   "cell_type": "markdown",
   "id": "5052f48b-680b-4bb7-a864-d36a073d5283",
   "metadata": {
    "tags": []
   },
   "source": [
    "# Barrier Option Pricing\n",
    "\n"
   ]
  },
  {
   "cell_type": "code",
   "execution_count": 73,
   "id": "69710f1e-94e3-45e5-a6ca-fff5cead6c65",
   "metadata": {},
   "outputs": [],
   "source": [
    "# ------------------------------------------------------------------------------\n",
    "# Published in:     Comp_FiMa_class_WS2021\n",
    "# ------------------------------------------------------------------------------\n",
    "# Project title:    Barrier Option Pricing and Sensitivity\n",
    "# ------------------------------------------------------------------------------\n",
    "# Description:      Calculate the price of barrier option as well as its sensitivity\n",
    "# ------------------------------------------------------------------------------\n",
    "# Required Packages:  numpy, py_vollib, scipy.stats\n",
    "# ------------------------------------------------------------------------------\n",
    "# Author :          Ananda Eraz Irfananto (547048)\n",
    "# ------------------------------------------------------------------------------\n",
    "\n"
   ]
  },
  {
   "cell_type": "code",
   "execution_count": 89,
   "id": "95327a9e-9a63-4fe6-8ff7-4dbf6b4b0a8e",
   "metadata": {},
   "outputs": [
    {
     "name": "stdout",
     "output_type": "stream",
     "text": [
      "Requirement already satisfied: py_vollib in ./opt/anaconda3/lib/python3.8/site-packages (1.0.1)\n",
      "Requirement already satisfied: simplejson in ./opt/anaconda3/lib/python3.8/site-packages (from py_vollib) (3.17.6)\n",
      "Requirement already satisfied: pandas in ./opt/anaconda3/lib/python3.8/site-packages (from py_vollib) (1.2.4)\n",
      "Requirement already satisfied: scipy in ./opt/anaconda3/lib/python3.8/site-packages (from py_vollib) (1.7.1)\n",
      "Requirement already satisfied: numpy in ./opt/anaconda3/lib/python3.8/site-packages (from py_vollib) (1.20.1)\n",
      "Requirement already satisfied: py-lets-be-rational in ./opt/anaconda3/lib/python3.8/site-packages (from py_vollib) (1.0.1)\n",
      "Requirement already satisfied: python-dateutil>=2.7.3 in ./opt/anaconda3/lib/python3.8/site-packages (from pandas->py_vollib) (2.8.2)\n",
      "Requirement already satisfied: pytz>=2017.3 in ./opt/anaconda3/lib/python3.8/site-packages (from pandas->py_vollib) (2021.3)\n",
      "Requirement already satisfied: six>=1.5 in ./opt/anaconda3/lib/python3.8/site-packages (from python-dateutil>=2.7.3->pandas->py_vollib) (1.16.0)\n",
      "Note: you may need to restart the kernel to use updated packages.\n"
     ]
    }
   ],
   "source": [
    "pip install py_vollib"
   ]
  },
  {
   "cell_type": "code",
   "execution_count": 90,
   "id": "3c309e6a-4a97-4f87-a844-2ff685431892",
   "metadata": {},
   "outputs": [],
   "source": [
    "import numpy as np"
   ]
  },
  {
   "cell_type": "code",
   "execution_count": 91,
   "id": "9188e278-b77b-46a8-ac7f-1eeaa74871d9",
   "metadata": {},
   "outputs": [],
   "source": [
    "# S0  Basiswert\n",
    "# K   Strike-Preis\n",
    "# T   Maturität im Jahr (betrachtende Laufzeit)\n",
    "# H   Barrierpreis\n",
    "# r   Zins\n",
    "# N   Anzahl von Schritt\n",
    "# u   up-faktor \n",
    "# opt Optiontyp Call oder Put\n",
    "\n",
    "def barrieropt(S0,K,T,H,r,N,u,opt):\n",
    "    #Konstante definieren\n",
    "    dt = T/N  # Länge\n",
    "    d = 1/u  # down-faktor\n",
    "    q = (np.exp(r * dt) - d)/(u - d) # Erfolgswahrscheinlichkeit (risikoneutrales Maß)\n",
    "    disk = np.exp(-r * dt) # Diskontierung\n",
    "    \n",
    "    \n",
    "    #Wert von Underlyings am Maturität\n",
    "    S = np.zeros(N+1)\n",
    "    for j in range(0, N+1):\n",
    "        S[j] = S0 * u**j * d**(N - j)\n",
    "    \n",
    "    #Option payoff\n",
    "    C = np.zeros(N+1)\n",
    "    for j in range(0, N+1):\n",
    "        if opt == 'C':\n",
    "            C[j] = max(0, S[j] - K)\n",
    "        elif opt == 'P':\n",
    "            C[j] = max(0, K - S[j])\n",
    "            \n",
    "    #Barrier prüfen\n",
    "    for j in range(0, N+1):\n",
    "        S = S0 * u**j * d**(N - j)\n",
    "        if S >= H:\n",
    "            C[j] = 0\n",
    "        \n",
    "            \n",
    "    #Rückwärts durch den Binomialbaum\n",
    "    for i in np.arange(N-1, -1, -1):\n",
    "        for j in range(0, i+1):\n",
    "            S = S0 * u**j * d**(i - j)\n",
    "            if S >= H:\n",
    "                C[j] = 0\n",
    "            else:\n",
    "                C[j] = disk * (q * C[j+1] + (1 - q) * C[j])\n",
    "    return C[0]\n",
    "\n",
    "\n",
    "        "
   ]
  },
  {
   "cell_type": "code",
   "execution_count": 92,
   "id": "54274096-61ee-4ccc-ac06-b18e4abded2b",
   "metadata": {},
   "outputs": [
    {
     "data": {
      "text/plain": [
       "4.00026736854323"
      ]
     },
     "execution_count": 92,
     "metadata": {},
     "output_type": "execute_result"
    }
   ],
   "source": [
    "# S0 = 100  Basiswert\n",
    "# K = 100   Strike-Preis\n",
    "# T = 1     Maturität im Jahr (betrachtende Laufzeit)\n",
    "# H = 125   up-and-out Barrierpreis\n",
    "# r = 0.06  Zins\n",
    "# N = 3     Anzahl von Schritt\n",
    "# u = 1.1   up-faktor \n",
    "barrieropt(100,100,1,125,0.06,3,1.1,opt='C')  # Call-Option"
   ]
  },
  {
   "cell_type": "code",
   "execution_count": 93,
   "id": "d2495215-4bbb-404e-9fda-323e173640cf",
   "metadata": {},
   "outputs": [
    {
     "data": {
      "text/plain": [
       "0.0"
      ]
     },
     "execution_count": 93,
     "metadata": {},
     "output_type": "execute_result"
    }
   ],
   "source": [
    "# S0 = 200  Basiswert\n",
    "# K = 250   Strike-Preis\n",
    "# T = 1     Maturität im Jahr (betrachtende Laufzeit)\n",
    "# H = 80    down-and-out Barrierpreis\n",
    "# r = 0.06  Zins\n",
    "# N = 3     Anzahl von Schritt\n",
    "# u = 1.1   up-faktor \n",
    "barrieropt(200,250,1,80,0.06,3,1.1,opt='C')  # Call-Option"
   ]
  },
  {
   "cell_type": "code",
   "execution_count": 94,
   "id": "66f9c53e-c3bc-418c-bca9-e4c573e6f5e1",
   "metadata": {},
   "outputs": [
    {
     "data": {
      "text/plain": [
       "4.322189158353709"
      ]
     },
     "execution_count": 94,
     "metadata": {},
     "output_type": "execute_result"
    }
   ],
   "source": [
    "# S0 = 100  Basiswert\n",
    "# K = 100   Strike-Preis\n",
    "# T = 1     Maturität im Jahr (betrachtende Laufzeit)\n",
    "# H = 125   up-and-out Barrierpreis\n",
    "# r = 0.06  Zins\n",
    "# N = 3     Anzahl von Schritt\n",
    "# u = 1.1   up-faktor \n",
    "barrieropt(100,100,1,125,0.06,3,1.1,opt='P')  # Put-Option"
   ]
  },
  {
   "cell_type": "code",
   "execution_count": 95,
   "id": "474eb865-c55f-475a-956b-fdb12317d619",
   "metadata": {},
   "outputs": [
    {
     "data": {
      "text/plain": [
       "0.0"
      ]
     },
     "execution_count": 95,
     "metadata": {},
     "output_type": "execute_result"
    }
   ],
   "source": [
    "# S0 = 200  Basiswert\n",
    "# K = 250   Strike-Preis\n",
    "# T = 1     Maturität im Jahr (betrachtende Laufzeit)\n",
    "# H = 80    down-and-out Barrierpreis\n",
    "# r = 0.06  Zins\n",
    "# N = 3     Anzahl von Schritt\n",
    "# u = 1.1   up-faktor\n",
    "barrieropt(200,250,1,80,0.06,3,1.1,opt='P')  # Put-Option"
   ]
  },
  {
   "cell_type": "markdown",
   "id": "6e89b0a5-eedc-4612-92b5-ccf23be9f6ad",
   "metadata": {},
   "source": [
    "# Sensitivität\n"
   ]
  },
  {
   "cell_type": "code",
   "execution_count": 96,
   "id": "b3421e77-07a3-4a61-8143-bc22d66162c9",
   "metadata": {},
   "outputs": [],
   "source": [
    "from scipy.stats import norm\n",
    "from py_vollib.black_scholes import black_scholes as bs\n",
    "from py_vollib.black_scholes.greeks.analytical import delta, gamma, vega, theta, rho\n"
   ]
  },
  {
   "cell_type": "code",
   "execution_count": 97,
   "id": "af471c72-17fa-42cb-897e-271dfc5d1291",
   "metadata": {},
   "outputs": [],
   "source": [
    "# Variablen definieren\n",
    "r = 0.06 # Zins\n",
    "S = 100   # Optionswert\n",
    "K = 100   # Strike-Preis\n",
    "T = 240/365 # Laufzeit\n",
    "sigma = 0.30 # Volatilität\n",
    "\n",
    "def blackScholes(r, S, K, T, sigma, type=\"c\"):\n",
    "    # Black-Scholes Preis berechnen\n",
    "    d1 = (np.log(S/K) + (r + sigma**2/2)*T)/(sigma*np.sqrt(T))\n",
    "    d2 = d1 - sigma*np.sqrt(T)\n",
    "    try:\n",
    "        if type == \"c\":\n",
    "            preis = S*norm.cdf(d1, 0, 1) - K*np.exp(-r*T)*norm.cdf(d2, 0, 1)\n",
    "        elif type == \"p\":\n",
    "            preis = K*np.exp(-r*T)*norm.cdf(-d2, 0, 1) - S*norm.cdf(-d1, 0, 1)\n",
    "        return preis, bs(type, S, K, T, r, sigma)\n",
    "    except:\n",
    "        print(\"Bitte geben Sie 'type' ein\")\n",
    "\n",
    "\n",
    "def delta_calc(r, S, K, T, sigma, type=\"c\"):\n",
    "    # Delta berechnen\n",
    "    d1 = (np.log(S/K) + (r + sigma**2/2)*T)/(sigma*np.sqrt(T))\n",
    "    try:\n",
    "        if type == \"c\":\n",
    "            delta_calc = norm.cdf(d1, 0, 1)\n",
    "        elif type == \"p\":\n",
    "            delta_calc = -norm.cdf(-d1, 0, 1)\n",
    "        return delta_calc, delta(type, S, K, T, r, sigma)\n",
    "    except:\n",
    "        print(\"Bitte geben Sie 'type' ein\")\n",
    "\n",
    "        \n",
    "def gamma_calc(r, S, K, T, sigma, type=\"c\"):\n",
    "    # Gamma berechnen\n",
    "    d1 = (np.log(S/K) + (r + sigma**2/2)*T)/(sigma*np.sqrt(T))\n",
    "    d2 = d1 - sigma*np.sqrt(T)\n",
    "    try:\n",
    "        gamma_calc = norm.pdf(d1, 0, 1)/(S*sigma*np.sqrt(T))\n",
    "        return gamma_calc, gamma(type, S, K, T, r, sigma)\n",
    "    except:\n",
    "        print(\"Bitte geben Sie 'type' ein\")\n",
    "\n",
    "\n",
    "def vega_calc(r, S, K, T, sigma, type=\"c\"):\n",
    "    # Vega berechnen\n",
    "    d1 = (np.log(S/K) + (r + sigma**2/2)*T)/(sigma*np.sqrt(T))\n",
    "    d2 = d1 - sigma*np.sqrt(T)\n",
    "    try:\n",
    "        vega_calc = S*norm.pdf(d1, 0, 1)*np.sqrt(T)\n",
    "        return vega_calc*0.01, vega(type, S, K, T, r, sigma)\n",
    "    except:\n",
    "        print(\"Bitte geben Sie 'type' ein\")\n",
    "        \n",
    "def theta_calc(r, S, K, T, sigma, type=\"c\"):\n",
    "    # Theta berechnen\n",
    "    d1 = (np.log(S/K) + (r + sigma**2/2)*T)/(sigma*np.sqrt(T))\n",
    "    d2 = d1 - sigma*np.sqrt(T)\n",
    "    try:\n",
    "        if type == \"c\":\n",
    "            theta_calc = -S*norm.pdf(d1, 0, 1)*sigma/(2*np.sqrt(T)) - r*K*np.exp(-r*T)*norm.cdf(d2, 0, 1)\n",
    "        elif type == \"p\":\n",
    "            theta_calc = -S*norm.pdf(d1, 0, 1)*sigma/(2*np.sqrt(T)) + r*K*np.exp(-r*T)*norm.cdf(-d2, 0, 1)\n",
    "        return theta_calc/365, theta(type, S, K, T, r, sigma)\n",
    "    except:\n",
    "        print(\"Bitte geben Sie 'type' ein\")\n",
    "\n",
    "\n",
    "def rho_calc(r, S, K, T, sigma, type=\"c\"):\n",
    "    # Rho berechnen\n",
    "    d1 = (np.log(S/K) + (r + sigma**2/2)*T)/(sigma*np.sqrt(T))\n",
    "    d2 = d1 - sigma*np.sqrt(T)\n",
    "    try:\n",
    "        if type == \"c\":\n",
    "            rho_calc = K*T*np.exp(-r*T)*norm.cdf(d2, 0, 1)\n",
    "        elif type == \"p\":\n",
    "            rho_calc = -K*T*np.exp(-r*T)*norm.cdf(-d2, 0, 1)\n",
    "        return rho_calc*0.01, rho(type, S, K, T, r, sigma)\n",
    "    except:\n",
    "        print(\"Bitte geben Sie 'type' ein\")\n",
    "\n"
   ]
  },
  {
   "cell_type": "code",
   "execution_count": 98,
   "id": "fa36a30b-df03-4882-bc5f-560b12c27977",
   "metadata": {},
   "outputs": [
    {
     "name": "stdout",
     "output_type": "stream",
     "text": [
      "Option Preis:  [7.684, 7.684]\n",
      "       Delta:  [-0.388, -0.388]\n",
      "       Gamma:  [0.016, 0.016]\n",
      "       Vega :  [0.311, 0.311]\n",
      "       Theta:  [-0.012, -0.012]\n",
      "       Rho  :  [-0.306, -0.306]\n"
     ]
    }
   ],
   "source": [
    "option_type='p'\n",
    "\n",
    "print(\"Option Preis: \", [round(x,3) for x in blackScholes(r, S, K, T, sigma, option_type)])\n",
    "print(\"       Delta: \", [round(x,3) for x in delta_calc(r, S, K, T, sigma, option_type)])\n",
    "print(\"       Gamma: \", [round(x,3) for x in gamma_calc(r, S, K, T, sigma, option_type)])\n",
    "print(\"       Vega : \", [round(x,3) for x in vega_calc(r, S, K, T, sigma, option_type)])\n",
    "print(\"       Theta: \", [round(x,3) for x in theta_calc(r, S, K, T, sigma, option_type)])\n",
    "print(\"       Rho  : \", [round(x,3) for x in rho_calc(r, S, K, T, sigma, option_type)])"
   ]
  },
  {
   "cell_type": "code",
   "execution_count": 99,
   "id": "6fba4077-da61-4119-9f08-f3a439d61f09",
   "metadata": {},
   "outputs": [
    {
     "name": "stdout",
     "output_type": "stream",
     "text": [
      "Option Preis:  [11.552, 11.552]\n",
      "       Delta:  [0.612, 0.612]\n",
      "       Gamma:  [0.016, 0.016]\n",
      "       Vega :  [0.311, 0.311]\n",
      "       Theta:  [-0.028, -0.028]\n",
      "       Rho  :  [0.326, 0.326]\n"
     ]
    }
   ],
   "source": [
    "option_type='c'\n",
    "\n",
    "print(\"Option Preis: \", [round(x,3) for x in blackScholes(r, S, K, T, sigma, option_type)])\n",
    "print(\"       Delta: \", [round(x,3) for x in delta_calc(r, S, K, T, sigma, option_type)])\n",
    "print(\"       Gamma: \", [round(x,3) for x in gamma_calc(r, S, K, T, sigma, option_type)])\n",
    "print(\"       Vega : \", [round(x,3) for x in vega_calc(r, S, K, T, sigma, option_type)])\n",
    "print(\"       Theta: \", [round(x,3) for x in theta_calc(r, S, K, T, sigma, option_type)])\n",
    "print(\"       Rho  : \", [round(x,3) for x in rho_calc(r, S, K, T, sigma, option_type)])"
   ]
  },
  {
   "cell_type": "code",
   "execution_count": null,
   "id": "3b97514a-d8d8-4593-af04-bffd83dc22e0",
   "metadata": {},
   "outputs": [],
   "source": []
  }
 ],
 "metadata": {
  "kernelspec": {
   "display_name": "Python 3 (ipykernel)",
   "language": "python",
   "name": "python3"
  },
  "language_info": {
   "codemirror_mode": {
    "name": "ipython",
    "version": 3
   },
   "file_extension": ".py",
   "mimetype": "text/x-python",
   "name": "python",
   "nbconvert_exporter": "python",
   "pygments_lexer": "ipython3",
   "version": "3.8.8"
  }
 },
 "nbformat": 4,
 "nbformat_minor": 5
}
